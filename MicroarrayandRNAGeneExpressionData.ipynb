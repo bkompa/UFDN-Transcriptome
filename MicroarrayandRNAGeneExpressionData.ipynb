{
 "cells": [
  {
   "cell_type": "code",
   "execution_count": 9,
   "metadata": {},
   "outputs": [],
   "source": [
    "import h5py\n",
    "import pandas as pd \n",
    "import numpy as np \n",
    "import torch \n",
    "import os \n",
    "from torch.utils.data import DataLoader,Dataset\n"
   ]
  },
  {
   "cell_type": "code",
   "execution_count": 10,
   "metadata": {},
   "outputs": [],
   "source": [
    "#This is the dataloader that is called for each minibatch of data in the main training loop \n",
    "def LoadTCGA(data_root, batch_size=32, split='train', cancer='brca', attr = None,\n",
    "               shuffle=True, load_first_n = None):\n",
    "\n",
    "    data_root = data_root+'tcga.h5'\n",
    "    key = '/'.join(['tcga',split,cancer])\n",
    "    print(key)\n",
    "    tcga_dataset = TCGA(data_root,key,load_first_n)\n",
    "    return DataLoader(tcga_dataset,batch_size=batch_size,shuffle=shuffle,drop_last=True)\n",
    "\n",
    "def LoadTCGA(data_root, dataset= 'tcga', batch_size=32, split='train', cancer='brca', attr = None,\n",
    "               shuffle=True, load_first_n = None):\n",
    "\n",
    "    data_root = data_root+dataset+'.h5'\n",
    "    key = '/'.join([dataset,split,cancer])\n",
    "    print(key)\n",
    "    tcga_dataset = TCGA(data_root,key,load_first_n)\n",
    "    return DataLoader(tcga_dataset,batch_size=batch_size,shuffle=shuffle,drop_last=True)\n",
    "\n",
    "#This is an extension of the Dataset class for our TCGA data \n",
    "#The private variable 'expression' was original named data but \n",
    "#I think since we have the __getitem___ method that it should be ok to change this name\n",
    "#to something more meaningful \n",
    "class TCGA(Dataset): \n",
    "    \n",
    "    def __init__(self, root, key, load_first_n = None):\n",
    "        with h5py.File(root,'r') as f:\n",
    "            data = f[key][()]\n",
    "            if load_first_n:\n",
    "                data = data[:load_first_n]\n",
    "        self.expression = data \n",
    "    \n",
    "    def __getitem__(self, index):\n",
    "        return self.expression[index]\n",
    "\n",
    "    def __len__(self):\n",
    "        return len(self.expression)"
   ]
  },
  {
   "cell_type": "code",
   "execution_count": 7,
   "metadata": {},
   "outputs": [
    {
     "name": "stdout",
     "output_type": "stream",
     "text": [
      "tcga/train/brca\n"
     ]
    },
    {
     "ename": "OSError",
     "evalue": "Unable to open file (Unable to open file: name = 'tcga.h5', errno = 2, error message = 'no such file or directory', flags = 0, o_flags = 0)",
     "output_type": "error",
     "traceback": [
      "\u001b[0;31m---------------------------------------------------------------------------\u001b[0m",
      "\u001b[0;31mOSError\u001b[0m                                   Traceback (most recent call last)",
      "\u001b[0;32m<ipython-input-7-ffb2755b5427>\u001b[0m in \u001b[0;36m<module>\u001b[0;34m()\u001b[0m\n\u001b[1;32m      1\u001b[0m \u001b[0;31m#Testing that the dataloader works\u001b[0m\u001b[0;34m\u001b[0m\u001b[0;34m\u001b[0m\u001b[0m\n\u001b[0;32m----> 2\u001b[0;31m \u001b[0mtest_loader\u001b[0m \u001b[0;34m=\u001b[0m \u001b[0mLoadTCGA\u001b[0m\u001b[0;34m(\u001b[0m\u001b[0;34m''\u001b[0m\u001b[0;34m)\u001b[0m\u001b[0;34m\u001b[0m\u001b[0m\n\u001b[0m",
      "\u001b[0;32m<ipython-input-6-35ab51ec8fd4>\u001b[0m in \u001b[0;36mLoadTCGA\u001b[0;34m(data_root, batch_size, split, cancer, attr, shuffle, load_first_n)\u001b[0m\n\u001b[1;32m      6\u001b[0m     \u001b[0mkey\u001b[0m \u001b[0;34m=\u001b[0m \u001b[0;34m'/'\u001b[0m\u001b[0;34m.\u001b[0m\u001b[0mjoin\u001b[0m\u001b[0;34m(\u001b[0m\u001b[0;34m[\u001b[0m\u001b[0;34m'tcga'\u001b[0m\u001b[0;34m,\u001b[0m\u001b[0msplit\u001b[0m\u001b[0;34m,\u001b[0m\u001b[0mcancer\u001b[0m\u001b[0;34m]\u001b[0m\u001b[0;34m)\u001b[0m\u001b[0;34m\u001b[0m\u001b[0m\n\u001b[1;32m      7\u001b[0m     \u001b[0mprint\u001b[0m\u001b[0;34m(\u001b[0m\u001b[0mkey\u001b[0m\u001b[0;34m)\u001b[0m\u001b[0;34m\u001b[0m\u001b[0m\n\u001b[0;32m----> 8\u001b[0;31m     \u001b[0mtcga_dataset\u001b[0m \u001b[0;34m=\u001b[0m \u001b[0mTCGA\u001b[0m\u001b[0;34m(\u001b[0m\u001b[0mdata_root\u001b[0m\u001b[0;34m,\u001b[0m\u001b[0mkey\u001b[0m\u001b[0;34m,\u001b[0m\u001b[0mload_first_n\u001b[0m\u001b[0;34m)\u001b[0m\u001b[0;34m\u001b[0m\u001b[0m\n\u001b[0m\u001b[1;32m      9\u001b[0m     \u001b[0;32mreturn\u001b[0m \u001b[0mDataLoader\u001b[0m\u001b[0;34m(\u001b[0m\u001b[0mtcga_dataset\u001b[0m\u001b[0;34m,\u001b[0m\u001b[0mbatch_size\u001b[0m\u001b[0;34m=\u001b[0m\u001b[0mbatch_size\u001b[0m\u001b[0;34m,\u001b[0m\u001b[0mshuffle\u001b[0m\u001b[0;34m=\u001b[0m\u001b[0mshuffle\u001b[0m\u001b[0;34m,\u001b[0m\u001b[0mdrop_last\u001b[0m\u001b[0;34m=\u001b[0m\u001b[0;32mTrue\u001b[0m\u001b[0;34m)\u001b[0m\u001b[0;34m\u001b[0m\u001b[0m\n\u001b[1;32m     10\u001b[0m \u001b[0;34m\u001b[0m\u001b[0m\n",
      "\u001b[0;32m<ipython-input-6-35ab51ec8fd4>\u001b[0m in \u001b[0;36m__init__\u001b[0;34m(self, root, key, load_first_n)\u001b[0m\n\u001b[1;32m     16\u001b[0m \u001b[0;34m\u001b[0m\u001b[0m\n\u001b[1;32m     17\u001b[0m     \u001b[0;32mdef\u001b[0m \u001b[0m__init__\u001b[0m\u001b[0;34m(\u001b[0m\u001b[0mself\u001b[0m\u001b[0;34m,\u001b[0m \u001b[0mroot\u001b[0m\u001b[0;34m,\u001b[0m \u001b[0mkey\u001b[0m\u001b[0;34m,\u001b[0m \u001b[0mload_first_n\u001b[0m \u001b[0;34m=\u001b[0m \u001b[0;32mNone\u001b[0m\u001b[0;34m)\u001b[0m\u001b[0;34m:\u001b[0m\u001b[0;34m\u001b[0m\u001b[0m\n\u001b[0;32m---> 18\u001b[0;31m         \u001b[0;32mwith\u001b[0m \u001b[0mh5py\u001b[0m\u001b[0;34m.\u001b[0m\u001b[0mFile\u001b[0m\u001b[0;34m(\u001b[0m\u001b[0mroot\u001b[0m\u001b[0;34m,\u001b[0m\u001b[0;34m'r'\u001b[0m\u001b[0;34m)\u001b[0m \u001b[0;32mas\u001b[0m \u001b[0mf\u001b[0m\u001b[0;34m:\u001b[0m\u001b[0;34m\u001b[0m\u001b[0m\n\u001b[0m\u001b[1;32m     19\u001b[0m             \u001b[0mdata\u001b[0m \u001b[0;34m=\u001b[0m \u001b[0mf\u001b[0m\u001b[0;34m[\u001b[0m\u001b[0mkey\u001b[0m\u001b[0;34m]\u001b[0m\u001b[0;34m[\u001b[0m\u001b[0;34m(\u001b[0m\u001b[0;34m)\u001b[0m\u001b[0;34m]\u001b[0m\u001b[0;34m\u001b[0m\u001b[0m\n\u001b[1;32m     20\u001b[0m             \u001b[0;32mif\u001b[0m \u001b[0mload_first_n\u001b[0m\u001b[0;34m:\u001b[0m\u001b[0;34m\u001b[0m\u001b[0m\n",
      "\u001b[0;32m//anaconda/lib/python3.6/site-packages/h5py/_hl/files.py\u001b[0m in \u001b[0;36m__init__\u001b[0;34m(self, name, mode, driver, libver, userblock_size, swmr, **kwds)\u001b[0m\n\u001b[1;32m    270\u001b[0m \u001b[0;34m\u001b[0m\u001b[0m\n\u001b[1;32m    271\u001b[0m                 \u001b[0mfapl\u001b[0m \u001b[0;34m=\u001b[0m \u001b[0mmake_fapl\u001b[0m\u001b[0;34m(\u001b[0m\u001b[0mdriver\u001b[0m\u001b[0;34m,\u001b[0m \u001b[0mlibver\u001b[0m\u001b[0;34m,\u001b[0m \u001b[0;34m**\u001b[0m\u001b[0mkwds\u001b[0m\u001b[0;34m)\u001b[0m\u001b[0;34m\u001b[0m\u001b[0m\n\u001b[0;32m--> 272\u001b[0;31m                 \u001b[0mfid\u001b[0m \u001b[0;34m=\u001b[0m \u001b[0mmake_fid\u001b[0m\u001b[0;34m(\u001b[0m\u001b[0mname\u001b[0m\u001b[0;34m,\u001b[0m \u001b[0mmode\u001b[0m\u001b[0;34m,\u001b[0m \u001b[0muserblock_size\u001b[0m\u001b[0;34m,\u001b[0m \u001b[0mfapl\u001b[0m\u001b[0;34m,\u001b[0m \u001b[0mswmr\u001b[0m\u001b[0;34m=\u001b[0m\u001b[0mswmr\u001b[0m\u001b[0;34m)\u001b[0m\u001b[0;34m\u001b[0m\u001b[0m\n\u001b[0m\u001b[1;32m    273\u001b[0m \u001b[0;34m\u001b[0m\u001b[0m\n\u001b[1;32m    274\u001b[0m                 \u001b[0;32mif\u001b[0m \u001b[0mswmr_support\u001b[0m\u001b[0;34m:\u001b[0m\u001b[0;34m\u001b[0m\u001b[0m\n",
      "\u001b[0;32m//anaconda/lib/python3.6/site-packages/h5py/_hl/files.py\u001b[0m in \u001b[0;36mmake_fid\u001b[0;34m(name, mode, userblock_size, fapl, fcpl, swmr)\u001b[0m\n\u001b[1;32m     90\u001b[0m         \u001b[0;32mif\u001b[0m \u001b[0mswmr\u001b[0m \u001b[0;32mand\u001b[0m \u001b[0mswmr_support\u001b[0m\u001b[0;34m:\u001b[0m\u001b[0;34m\u001b[0m\u001b[0m\n\u001b[1;32m     91\u001b[0m             \u001b[0mflags\u001b[0m \u001b[0;34m|=\u001b[0m \u001b[0mh5f\u001b[0m\u001b[0;34m.\u001b[0m\u001b[0mACC_SWMR_READ\u001b[0m\u001b[0;34m\u001b[0m\u001b[0m\n\u001b[0;32m---> 92\u001b[0;31m         \u001b[0mfid\u001b[0m \u001b[0;34m=\u001b[0m \u001b[0mh5f\u001b[0m\u001b[0;34m.\u001b[0m\u001b[0mopen\u001b[0m\u001b[0;34m(\u001b[0m\u001b[0mname\u001b[0m\u001b[0;34m,\u001b[0m \u001b[0mflags\u001b[0m\u001b[0;34m,\u001b[0m \u001b[0mfapl\u001b[0m\u001b[0;34m=\u001b[0m\u001b[0mfapl\u001b[0m\u001b[0;34m)\u001b[0m\u001b[0;34m\u001b[0m\u001b[0m\n\u001b[0m\u001b[1;32m     93\u001b[0m     \u001b[0;32melif\u001b[0m \u001b[0mmode\u001b[0m \u001b[0;34m==\u001b[0m \u001b[0;34m'r+'\u001b[0m\u001b[0;34m:\u001b[0m\u001b[0;34m\u001b[0m\u001b[0m\n\u001b[1;32m     94\u001b[0m         \u001b[0mfid\u001b[0m \u001b[0;34m=\u001b[0m \u001b[0mh5f\u001b[0m\u001b[0;34m.\u001b[0m\u001b[0mopen\u001b[0m\u001b[0;34m(\u001b[0m\u001b[0mname\u001b[0m\u001b[0;34m,\u001b[0m \u001b[0mh5f\u001b[0m\u001b[0;34m.\u001b[0m\u001b[0mACC_RDWR\u001b[0m\u001b[0;34m,\u001b[0m \u001b[0mfapl\u001b[0m\u001b[0;34m=\u001b[0m\u001b[0mfapl\u001b[0m\u001b[0;34m)\u001b[0m\u001b[0;34m\u001b[0m\u001b[0m\n",
      "\u001b[0;32mh5py/_objects.pyx\u001b[0m in \u001b[0;36mh5py._objects.with_phil.wrapper (/Users/ilan/minonda/conda-bld/h5py_1482533836832/work/h5py/_objects.c:2856)\u001b[0;34m()\u001b[0m\n",
      "\u001b[0;32mh5py/_objects.pyx\u001b[0m in \u001b[0;36mh5py._objects.with_phil.wrapper (/Users/ilan/minonda/conda-bld/h5py_1482533836832/work/h5py/_objects.c:2814)\u001b[0;34m()\u001b[0m\n",
      "\u001b[0;32mh5py/h5f.pyx\u001b[0m in \u001b[0;36mh5py.h5f.open (/Users/ilan/minonda/conda-bld/h5py_1482533836832/work/h5py/h5f.c:2102)\u001b[0;34m()\u001b[0m\n",
      "\u001b[0;31mOSError\u001b[0m: Unable to open file (Unable to open file: name = 'tcga.h5', errno = 2, error message = 'no such file or directory', flags = 0, o_flags = 0)"
     ]
    }
   ],
   "source": [
    "#Testing that the dataloader works \n",
    "test_loader = LoadTCGA('')"
   ]
  },
  {
   "cell_type": "code",
   "execution_count": 4,
   "metadata": {
    "collapsed": true
   },
   "outputs": [],
   "source": [
    "# #Creating the tiny TCGA test dataset \n",
    "\n",
    "# #load the csvs into pandas dataframes \n",
    "# dlbc = pd.read_csv('dlbc.csv', index_col=0)\n",
    "# gbm = pd.read_csv('gbm.csv', index_col=0)\n",
    "# brca = pd.read_csv('brca.csv', index_col=0)\n",
    "\n",
    "### Make the tiny h5 file for testing \n",
    "### 10 training samples that are (20501,) and 5 test samples (20501,)\n",
    "# tcga = h5py.File('tcga.h5', mode='a')\n",
    "# tcga.create_dataset('tcga/train/dlbc', data=dlbc.values.T[:10])\n",
    "# tcga.create_dataset('tcga/test/dlbc', data=dlbc.values.T[10:15])\n",
    "# tcga.create_dataset('tcga/train/gbm', data=gbm.values.T[:10])\n",
    "# tcga.create_dataset('tcga/test/gbm', data=gbm.values.T[10:15])\n",
    "# tcga.create_dataset('tcga/train/brca', data=brca.values.T[:10])\n",
    "# tcga.create_dataset('tcga/test/brca', data=brca.values.T[10:15])"
   ]
  },
  {
   "cell_type": "code",
   "execution_count": 11,
   "metadata": {},
   "outputs": [],
   "source": [
    "microarray_datasets = ['BRCA_RNASeq2GeneNorm', \n",
    "                      'BRCA_mRNAArray', \n",
    "                      'COAD_RNASeq2GeneNorm',\n",
    "                      'COAD_mRNAArray',\n",
    "                      'KIRC_RNASeq2GeneNorm',\n",
    "                      'KIRC_mRNAArray',\n",
    "                      'KIRP_RNASeq2GeneNorm',\n",
    "                      'KIRP_mRNAArray',\n",
    "                      'LGG_RNASeq2GeneNorm',\n",
    "                      'LGG_mRNAArray',\n",
    "                      'LUAD_RNASeq2GeneNorm',\n",
    "                      'LUAD_mRNAArray',\n",
    "                      'READ_RNASeq2GeneNorm',\n",
    "                      'READ_mRNAArray',\n",
    "                      'UCEC_RNASeq2GeneNorm',\n",
    "                      'UCEC_mRNAArray']\n",
    "\n",
    "csv_files = [\"~/Downloads/TCGA_mRNA_RNA/BRCA/BRCA_RNASeq2GeneNorm.csv\",\n",
    "\"~/Downloads/TCGA_mRNA_RNA/BRCA/BRCA_mRNAArray.csv\",\n",
    "\"~/Downloads/TCGA_mRNA_RNA/COAD/COAD_RNASeq2GeneNorm.csv\",\n",
    "\"~/Downloads/TCGA_mRNA_RNA/COAD/COAD_mRNAArray.csv\",\n",
    "\"~/Downloads/TCGA_mRNA_RNA/KIRC/KIRC_RNASeq2GeneNorm.csv\",\n",
    "\"~/Downloads/TCGA_mRNA_RNA/KIRC/KIRC_mRNAArray.csv\",\n",
    "\"~/Downloads/TCGA_mRNA_RNA/KIRP/KIRP_RNASeq2GeneNorm.csv\",\n",
    "\"~/Downloads/TCGA_mRNA_RNA/KIRP/KIRP_mRNAArray.csv\",\n",
    "\"~/Downloads/TCGA_mRNA_RNA/LGG/LGG_RNASeq2GeneNorm.csv\",\n",
    "\"~/Downloads/TCGA_mRNA_RNA/LGG/LGG_mRNAArray.csv\",\n",
    "\"~/Downloads/TCGA_mRNA_RNA/LUAD/LUAD_RNASeq2GeneNorm.csv\",\n",
    "\"~/Downloads/TCGA_mRNA_RNA/LUAD/LUAD_mRNAArray.csv\",\n",
    "\"~/Downloads/TCGA_mRNA_RNA/READ/READ_RNASeq2GeneNorm.csv\",\n",
    "\"~/Downloads/TCGA_mRNA_RNA/READ/READ_mRNAArray.csv\",\n",
    "\"~/Downloads/TCGA_mRNA_RNA/UCEC/UCEC_RNASeq2GeneNorm.csv\",\n",
    "\"~/Downloads/TCGA_mRNA_RNA/UCEC/UCEC_mRNAArray.csv\"]"
   ]
  },
  {
   "cell_type": "code",
   "execution_count": 12,
   "metadata": {},
   "outputs": [],
   "source": [
    "microarray_data = [pd.read_csv(csv_files[i], index_col=0).fillna(0) for i in range(len(csv_files))]"
   ]
  },
  {
   "cell_type": "code",
   "execution_count": 16,
   "metadata": {},
   "outputs": [],
   "source": [
    "np.savetxt('/Users/kompa/Downloads/TCGA_mRNA_RNA/train_0.txt',microarray_data[0].columns.values, fmt='%s')"
   ]
  },
  {
   "cell_type": "code",
   "execution_count": 13,
   "metadata": {},
   "outputs": [
    {
     "data": {
      "text/plain": [
       "array(['TCGA-3C-AAAU-01A-11R-A41B-07', 'TCGA-3C-AALI-01A-11R-A41B-07',\n",
       "       'TCGA-3C-AALJ-01A-31R-A41B-07', ...,\n",
       "       'TCGA-XX-A89A-01A-11R-A36F-07', 'TCGA-Z7-A8R5-01A-42R-A41B-07',\n",
       "       'TCGA-Z7-A8R6-01A-11R-A41B-07'], dtype='<U28')"
      ]
     },
     "execution_count": 13,
     "metadata": {},
     "output_type": "execute_result"
    }
   ],
   "source": [
    "microarray_data[0].columns.values.astype(str)"
   ]
  },
  {
   "cell_type": "code",
   "execution_count": 24,
   "metadata": {},
   "outputs": [
    {
     "name": "stdout",
     "output_type": "stream",
     "text": [
      "(16146, 1212)\n",
      "(16146, 590)\n",
      "(16146, 191)\n",
      "(16146, 172)\n",
      "(16146, 606)\n",
      "(16146, 72)\n",
      "(16146, 323)\n",
      "(16146, 16)\n",
      "(16146, 530)\n",
      "(16146, 27)\n",
      "(16146, 576)\n",
      "(16146, 32)\n",
      "(16146, 72)\n",
      "(16146, 72)\n",
      "(16146, 380)\n",
      "(16146, 54)\n"
     ]
    }
   ],
   "source": [
    "for idx, dataset in enumerate(microarray_data):\n",
    "    number_of_samples = dataset.shape\n",
    "    print(number_of_samples)"
   ]
  },
  {
   "cell_type": "code",
   "execution_count": 14,
   "metadata": {},
   "outputs": [
    {
     "name": "stdout",
     "output_type": "stream",
     "text": [
      "0\n",
      "1\n",
      "2\n",
      "3\n",
      "4\n",
      "5\n",
      "6\n",
      "7\n",
      "8\n",
      "9\n",
      "10\n",
      "11\n",
      "12\n",
      "13\n",
      "14\n",
      "15\n"
     ]
    }
   ],
   "source": [
    "np.random.seed(42)\n",
    "\n",
    "microarray = h5py.File('microarray_rna.h5', mode='a')\n",
    "for idx, dataset in enumerate(microarray_data):\n",
    "    print(idx)\n",
    "    number_of_samples = dataset.shape[1]\n",
    "    index = np.arange(number_of_samples)\n",
    "    np.random.shuffle(index)\n",
    "    train_index, test_index = index[:round(0.8*number_of_samples)], index[round(0.8*number_of_samples):]\n",
    "    #save train/test index sample names\n",
    "    np.savetxt('/Users/kompa/Downloads/TCGA_mRNA_RNA/train_{}.txt'.format(microarray_datasets[idx]), dataset.columns.values[train_index], fmt='%s')\n",
    "    np.savetxt('/Users/kompa/Downloads/TCGA_mRNA_RNA/test_{}.txt'.format(microarray_datasets[idx]), dataset.columns.values[test_index], fmt='%s')\n",
    "    microarray.create_dataset('microarray_rna/train/'+microarray_datasets[idx], data=dataset.iloc[:,train_index].T.values)\n",
    "    microarray.create_dataset('microarray_rna/test/'+microarray_datasets[idx], data=dataset.iloc[:,test_index].T.values)\n",
    "    \n",
    "microarray.close()"
   ]
  },
  {
   "cell_type": "code",
   "execution_count": 20,
   "metadata": {},
   "outputs": [
    {
     "data": {
      "text/plain": [
       "(43, 17814)"
      ]
     },
     "execution_count": 20,
     "metadata": {},
     "output_type": "execute_result"
    }
   ],
   "source": [
    "dataset.iloc[:,train_index].T.values.shape"
   ]
  },
  {
   "cell_type": "markdown",
   "metadata": {},
   "source": [
    "## Try out loading the data"
   ]
  },
  {
   "cell_type": "code",
   "execution_count": 5,
   "metadata": {},
   "outputs": [
    {
     "ename": "OSError",
     "evalue": "Unable to open file (Unable to open file: name = 'tcga.h5', errno = 2, error message = 'no such file or directory', flags = 0, o_flags = 0)",
     "output_type": "error",
     "traceback": [
      "\u001b[0;31m---------------------------------------------------------------------------\u001b[0m",
      "\u001b[0;31mOSError\u001b[0m                                   Traceback (most recent call last)",
      "\u001b[0;32m<ipython-input-5-3610fc3aa5c3>\u001b[0m in \u001b[0;36m<module>\u001b[0;34m()\u001b[0m\n\u001b[1;32m      3\u001b[0m     \u001b[0mprint\u001b[0m\u001b[0;34m(\u001b[0m\u001b[0mname\u001b[0m\u001b[0;34m)\u001b[0m\u001b[0;34m\u001b[0m\u001b[0m\n\u001b[1;32m      4\u001b[0m \u001b[0;34m\u001b[0m\u001b[0m\n\u001b[0;32m----> 5\u001b[0;31m \u001b[0mtcga\u001b[0m \u001b[0;34m=\u001b[0m \u001b[0mh5py\u001b[0m\u001b[0;34m.\u001b[0m\u001b[0mFile\u001b[0m\u001b[0;34m(\u001b[0m\u001b[0;34m'tcga.h5'\u001b[0m\u001b[0;34m,\u001b[0m \u001b[0mmode\u001b[0m\u001b[0;34m=\u001b[0m\u001b[0;34m'r'\u001b[0m\u001b[0;34m)\u001b[0m\u001b[0;34m\u001b[0m\u001b[0m\n\u001b[0m\u001b[1;32m      6\u001b[0m \u001b[0mtcga\u001b[0m\u001b[0;34m.\u001b[0m\u001b[0mvisit\u001b[0m\u001b[0;34m(\u001b[0m\u001b[0mprint_name\u001b[0m\u001b[0;34m)\u001b[0m\u001b[0;34m\u001b[0m\u001b[0m\n",
      "\u001b[0;32m//anaconda/lib/python3.6/site-packages/h5py/_hl/files.py\u001b[0m in \u001b[0;36m__init__\u001b[0;34m(self, name, mode, driver, libver, userblock_size, swmr, **kwds)\u001b[0m\n\u001b[1;32m    270\u001b[0m \u001b[0;34m\u001b[0m\u001b[0m\n\u001b[1;32m    271\u001b[0m                 \u001b[0mfapl\u001b[0m \u001b[0;34m=\u001b[0m \u001b[0mmake_fapl\u001b[0m\u001b[0;34m(\u001b[0m\u001b[0mdriver\u001b[0m\u001b[0;34m,\u001b[0m \u001b[0mlibver\u001b[0m\u001b[0;34m,\u001b[0m \u001b[0;34m**\u001b[0m\u001b[0mkwds\u001b[0m\u001b[0;34m)\u001b[0m\u001b[0;34m\u001b[0m\u001b[0m\n\u001b[0;32m--> 272\u001b[0;31m                 \u001b[0mfid\u001b[0m \u001b[0;34m=\u001b[0m \u001b[0mmake_fid\u001b[0m\u001b[0;34m(\u001b[0m\u001b[0mname\u001b[0m\u001b[0;34m,\u001b[0m \u001b[0mmode\u001b[0m\u001b[0;34m,\u001b[0m \u001b[0muserblock_size\u001b[0m\u001b[0;34m,\u001b[0m \u001b[0mfapl\u001b[0m\u001b[0;34m,\u001b[0m \u001b[0mswmr\u001b[0m\u001b[0;34m=\u001b[0m\u001b[0mswmr\u001b[0m\u001b[0;34m)\u001b[0m\u001b[0;34m\u001b[0m\u001b[0m\n\u001b[0m\u001b[1;32m    273\u001b[0m \u001b[0;34m\u001b[0m\u001b[0m\n\u001b[1;32m    274\u001b[0m                 \u001b[0;32mif\u001b[0m \u001b[0mswmr_support\u001b[0m\u001b[0;34m:\u001b[0m\u001b[0;34m\u001b[0m\u001b[0m\n",
      "\u001b[0;32m//anaconda/lib/python3.6/site-packages/h5py/_hl/files.py\u001b[0m in \u001b[0;36mmake_fid\u001b[0;34m(name, mode, userblock_size, fapl, fcpl, swmr)\u001b[0m\n\u001b[1;32m     90\u001b[0m         \u001b[0;32mif\u001b[0m \u001b[0mswmr\u001b[0m \u001b[0;32mand\u001b[0m \u001b[0mswmr_support\u001b[0m\u001b[0;34m:\u001b[0m\u001b[0;34m\u001b[0m\u001b[0m\n\u001b[1;32m     91\u001b[0m             \u001b[0mflags\u001b[0m \u001b[0;34m|=\u001b[0m \u001b[0mh5f\u001b[0m\u001b[0;34m.\u001b[0m\u001b[0mACC_SWMR_READ\u001b[0m\u001b[0;34m\u001b[0m\u001b[0m\n\u001b[0;32m---> 92\u001b[0;31m         \u001b[0mfid\u001b[0m \u001b[0;34m=\u001b[0m \u001b[0mh5f\u001b[0m\u001b[0;34m.\u001b[0m\u001b[0mopen\u001b[0m\u001b[0;34m(\u001b[0m\u001b[0mname\u001b[0m\u001b[0;34m,\u001b[0m \u001b[0mflags\u001b[0m\u001b[0;34m,\u001b[0m \u001b[0mfapl\u001b[0m\u001b[0;34m=\u001b[0m\u001b[0mfapl\u001b[0m\u001b[0;34m)\u001b[0m\u001b[0;34m\u001b[0m\u001b[0m\n\u001b[0m\u001b[1;32m     93\u001b[0m     \u001b[0;32melif\u001b[0m \u001b[0mmode\u001b[0m \u001b[0;34m==\u001b[0m \u001b[0;34m'r+'\u001b[0m\u001b[0;34m:\u001b[0m\u001b[0;34m\u001b[0m\u001b[0m\n\u001b[1;32m     94\u001b[0m         \u001b[0mfid\u001b[0m \u001b[0;34m=\u001b[0m \u001b[0mh5f\u001b[0m\u001b[0;34m.\u001b[0m\u001b[0mopen\u001b[0m\u001b[0;34m(\u001b[0m\u001b[0mname\u001b[0m\u001b[0;34m,\u001b[0m \u001b[0mh5f\u001b[0m\u001b[0;34m.\u001b[0m\u001b[0mACC_RDWR\u001b[0m\u001b[0;34m,\u001b[0m \u001b[0mfapl\u001b[0m\u001b[0;34m=\u001b[0m\u001b[0mfapl\u001b[0m\u001b[0;34m)\u001b[0m\u001b[0;34m\u001b[0m\u001b[0m\n",
      "\u001b[0;32mh5py/_objects.pyx\u001b[0m in \u001b[0;36mh5py._objects.with_phil.wrapper (/Users/ilan/minonda/conda-bld/h5py_1482533836832/work/h5py/_objects.c:2856)\u001b[0;34m()\u001b[0m\n",
      "\u001b[0;32mh5py/_objects.pyx\u001b[0m in \u001b[0;36mh5py._objects.with_phil.wrapper (/Users/ilan/minonda/conda-bld/h5py_1482533836832/work/h5py/_objects.c:2814)\u001b[0;34m()\u001b[0m\n",
      "\u001b[0;32mh5py/h5f.pyx\u001b[0m in \u001b[0;36mh5py.h5f.open (/Users/ilan/minonda/conda-bld/h5py_1482533836832/work/h5py/h5f.c:2102)\u001b[0;34m()\u001b[0m\n",
      "\u001b[0;31mOSError\u001b[0m: Unable to open file (Unable to open file: name = 'tcga.h5', errno = 2, error message = 'no such file or directory', flags = 0, o_flags = 0)"
     ]
    }
   ],
   "source": [
    "#utility function for walking the h5 file\n",
    "def print_name(name):\n",
    "    print(name)\n",
    "\n",
    "tcga = h5py.File('tcga.h5', mode='r')\n",
    "tcga.visit(print_name)"
   ]
  },
  {
   "cell_type": "code",
   "execution_count": 35,
   "metadata": {},
   "outputs": [
    {
     "data": {
      "text/plain": [
       "['brca', 'dlbc', 'gbm']"
      ]
     },
     "execution_count": 35,
     "metadata": {},
     "output_type": "execute_result"
    }
   ],
   "source": [
    "list(tcga['tcga/train'])"
   ]
  },
  {
   "cell_type": "code",
   "execution_count": 36,
   "metadata": {},
   "outputs": [
    {
     "data": {
      "text/plain": [
       "(10, 20501)"
      ]
     },
     "execution_count": 36,
     "metadata": {},
     "output_type": "execute_result"
    }
   ],
   "source": [
    "tcga['tcga/train/brca'][()].shape"
   ]
  },
  {
   "cell_type": "code",
   "execution_count": 37,
   "metadata": {},
   "outputs": [
    {
     "data": {
      "text/plain": [
       "array([[3.886780e+02, 0.000000e+00, 0.000000e+00, ..., 5.443902e+02,\n",
       "        2.731710e+01, 0.000000e+00],\n",
       "       [1.935208e+02, 0.000000e+00, 0.000000e+00, ..., 6.932067e+02,\n",
       "        8.692480e+01, 7.305000e-01],\n",
       "       [2.108252e+02, 0.000000e+00, 0.000000e+00, ..., 4.272727e+02,\n",
       "        1.083920e+01, 0.000000e+00],\n",
       "       ...,\n",
       "       [2.628933e+02, 5.501000e-01, 0.000000e+00, ..., 3.883388e+02,\n",
       "        1.265130e+01, 0.000000e+00],\n",
       "       [4.801603e+02, 0.000000e+00, 0.000000e+00, ..., 5.971944e+02,\n",
       "        4.175020e+01, 6.680000e-01],\n",
       "       [4.425644e+02, 0.000000e+00, 3.866000e+00, ..., 3.427835e+02,\n",
       "        1.353090e+01, 0.000000e+00]])"
      ]
     },
     "execution_count": 37,
     "metadata": {},
     "output_type": "execute_result"
    }
   ],
   "source": [
    "tcga['tcga/train/dlbc'][()]"
   ]
  },
  {
   "cell_type": "markdown",
   "metadata": {},
   "source": [
    "tcga.close()"
   ]
  },
  {
   "cell_type": "markdown",
   "metadata": {},
   "source": [
    "## Select most variable genes across training data"
   ]
  },
  {
   "cell_type": "markdown",
   "metadata": {},
   "source": [
    "Pick the `n_genes` with the largest median absolute deiviation (MAD)"
   ]
  },
  {
   "cell_type": "code",
   "execution_count": 101,
   "metadata": {},
   "outputs": [],
   "source": [
    "tcga = h5py.File('tcga.h5', mode='r')\n",
    "n_genes = 1000 # Number of genes \n",
    "\n",
    "# Cancers to include\n",
    "cancers = list(tcga['tcga/train'])\n",
    "\n",
    "# Compute MAD for each cancer type\n",
    "def mad(X, axis=0):\n",
    "    'Median absolute deviation'\n",
    "    return(np.median(np.abs(X - np.median(X,axis=axis)),axis=axis))\n",
    "\n",
    "mad_cancer = np.vstack(list(map(lambda cancer: mad(tcga['tcga/train/'+cancer][()]), cancers)))\n",
    "\n",
    "# Average MAD over cancer types\n",
    "mad_avg = np.mean(mad_cancer,axis=0)\n",
    "\n",
    "# Take the n_genes with the largest average MAD\n",
    "id_genes_keep = np.sort(np.argsort(mad_avg)[::-1][:n_genes])"
   ]
  },
  {
   "cell_type": "code",
   "execution_count": 102,
   "metadata": {},
   "outputs": [],
   "source": [
    "# Create dataset\n",
    "tcga_mad = h5py.File('tcga_mad.h5', mode='a')\n",
    "\n",
    "for c in cancers:\n",
    "    tcga_mad.create_dataset('tcga/train/'+c, data=tcga['tcga/train/'+c][:,id_genes_keep])\n",
    "    tcga_mad.create_dataset('tcga/test/'+c, data=tcga['tcga/test/'+c][:,id_genes_keep])\n",
    "    \n",
    "tcga_mad.close()"
   ]
  },
  {
   "cell_type": "markdown",
   "metadata": {},
   "source": [
    "## Face dataset"
   ]
  },
  {
   "cell_type": "code",
   "execution_count": 8,
   "metadata": {
    "collapsed": true
   },
   "outputs": [],
   "source": [
    "def LoadFace(data_root, batch_size=32, split='train', style='photo', attr = None,\n",
    "               shuffle=True, load_first_n = None):\n",
    "\n",
    "    data_root = data_root+'face.h5'\n",
    "    key = '/'.join(['CelebA',split,style])\n",
    "    celeba_dataset = Face(data_root,key,load_first_n)\n",
    "    return DataLoader(celeba_dataset,batch_size=batch_size,shuffle=shuffle,drop_last=True)\n",
    "\n",
    "class Face(Dataset):\n",
    "    def __init__(self, root, key, load_first_n = None):\n",
    "\n",
    "        with h5py.File(root,'r') as f:\n",
    "            data = f[key][()]\n",
    "            if load_first_n:\n",
    "                data = data[:load_first_n]\n",
    "        self.imgs = (data/255.0)*2 -1\n",
    "\n",
    "    def __getitem__(self, index):\n",
    "        return self.imgs[index]\n",
    "\n",
    "    def __len__(self):\n",
    "        return len(self.imgs)"
   ]
  },
  {
   "cell_type": "code",
   "execution_count": 9,
   "metadata": {},
   "outputs": [
    {
     "name": "stdout",
     "output_type": "stream",
     "text": [
      "CelebA\n",
      "CelebA/test\n",
      "CelebA/test/paint\n",
      "CelebA/test/photo\n",
      "CelebA/test/sketch\n",
      "CelebA/train\n",
      "CelebA/train/paint\n",
      "CelebA/train/photo\n",
      "CelebA/train/sketch\n"
     ]
    }
   ],
   "source": [
    "face = h5py.File('../UFDN/data/face.h5', mode='r')\n",
    "face.visit(print_name)"
   ]
  },
  {
   "cell_type": "code",
   "execution_count": 10,
   "metadata": {},
   "outputs": [
    {
     "data": {
      "text/plain": [
       "['CelebA']"
      ]
     },
     "execution_count": 10,
     "metadata": {},
     "output_type": "execute_result"
    }
   ],
   "source": [
    "list(face.keys())"
   ]
  },
  {
   "cell_type": "code",
   "execution_count": 11,
   "metadata": {},
   "outputs": [
    {
     "data": {
      "text/plain": [
       "(42319, 3, 64, 64)"
      ]
     },
     "execution_count": 11,
     "metadata": {},
     "output_type": "execute_result"
    }
   ],
   "source": [
    "face['CelebA/train/paint'][()].shape"
   ]
  },
  {
   "cell_type": "code",
   "execution_count": 31,
   "metadata": {},
   "outputs": [
    {
     "data": {
      "text/plain": [
       "(42319, 3, 64, 64)"
      ]
     },
     "execution_count": 31,
     "metadata": {},
     "output_type": "execute_result"
    }
   ],
   "source": [
    "face['CelebA/train/photo'][()].shape"
   ]
  },
  {
   "cell_type": "code",
   "execution_count": 32,
   "metadata": {},
   "outputs": [
    {
     "data": {
      "text/plain": [
       "(42319, 1, 64, 64)"
      ]
     },
     "execution_count": 32,
     "metadata": {},
     "output_type": "execute_result"
    }
   ],
   "source": [
    "face['CelebA/train/sketch'][()].shape"
   ]
  },
  {
   "cell_type": "code",
   "execution_count": 34,
   "metadata": {},
   "outputs": [
    {
     "data": {
      "text/plain": [
       "(71012, 3, 64, 64)"
      ]
     },
     "execution_count": 34,
     "metadata": {},
     "output_type": "execute_result"
    }
   ],
   "source": [
    "face['CelebA/test/paint'][()].shape"
   ]
  },
  {
   "cell_type": "code",
   "execution_count": null,
   "metadata": {
    "collapsed": true
   },
   "outputs": [],
   "source": [
    "face.close()"
   ]
  },
  {
   "cell_type": "code",
   "execution_count": 39,
   "metadata": {},
   "outputs": [
    {
     "data": {
      "text/plain": [
       "32.0"
      ]
     },
     "execution_count": 39,
     "metadata": {},
     "output_type": "execute_result"
    }
   ],
   "source": [
    "(64-4+2)/2+1"
   ]
  },
  {
   "cell_type": "markdown",
   "metadata": {},
   "source": [
    "#### Create smaller face dataset"
   ]
  },
  {
   "cell_type": "code",
   "execution_count": 14,
   "metadata": {},
   "outputs": [],
   "source": [
    "ntrain = 10\n",
    "ntest = 5\n",
    "\n",
    "domains = list(face['CelebA/train'])\n",
    "\n",
    "# Create dataset\n",
    "face_small = h5py.File('face_small.h5', mode='a')\n",
    "\n",
    "for d in domains:\n",
    "    face_small.create_dataset('CelebA/train/'+d, data=face['CelebA/train/'+d][:ntrain,:])\n",
    "    face_small.create_dataset('CelebA/test/'+d, data=face['CelebA/test/'+d][:ntest,:])\n",
    "    \n",
    "face_small.close()"
   ]
  },
  {
   "cell_type": "code",
   "execution_count": 16,
   "metadata": {},
   "outputs": [
    {
     "name": "stdout",
     "output_type": "stream",
     "text": [
      "CelebA\n",
      "CelebA/test\n",
      "CelebA/test/paint\n",
      "CelebA/test/photo\n",
      "CelebA/test/sketch\n",
      "CelebA/train\n",
      "CelebA/train/paint\n",
      "CelebA/train/photo\n",
      "CelebA/train/sketch\n"
     ]
    }
   ],
   "source": [
    "face_small = h5py.File('face_small.h5', mode='r')\n",
    "face_small.visit(print_name)"
   ]
  },
  {
   "cell_type": "code",
   "execution_count": 17,
   "metadata": {},
   "outputs": [
    {
     "data": {
      "text/plain": [
       "(10, 3, 64, 64)"
      ]
     },
     "execution_count": 17,
     "metadata": {},
     "output_type": "execute_result"
    }
   ],
   "source": [
    "face_small['CelebA/train/paint'][()].shape"
   ]
  },
  {
   "cell_type": "code",
   "execution_count": null,
   "metadata": {
    "collapsed": true
   },
   "outputs": [],
   "source": []
  }
 ],
 "metadata": {
  "kernelspec": {
   "display_name": "Python 3",
   "language": "python",
   "name": "python3"
  },
  "language_info": {
   "codemirror_mode": {
    "name": "ipython",
    "version": 3
   },
   "file_extension": ".py",
   "mimetype": "text/x-python",
   "name": "python",
   "nbconvert_exporter": "python",
   "pygments_lexer": "ipython3",
   "version": "3.6.8"
  }
 },
 "nbformat": 4,
 "nbformat_minor": 2
}
