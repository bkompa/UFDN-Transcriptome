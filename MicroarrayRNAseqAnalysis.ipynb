{
 "cells": [
  {
   "cell_type": "code",
   "execution_count": 1,
   "metadata": {},
   "outputs": [],
   "source": [
    "import h5py\n",
    "import pandas as pd \n",
    "import numpy as np \n",
    "import torch \n",
    "import os \n",
    "from torch.utils.data import DataLoader,Dataset\n"
   ]
  },
  {
   "cell_type": "code",
   "execution_count": 2,
   "metadata": {},
   "outputs": [],
   "source": [
    "microarray_datasets = ['BRCA_RNASeq2GeneNorm', \n",
    "                      'BRCA_mRNAArray', \n",
    "                      'COAD_RNASeq2GeneNorm',\n",
    "                      'COAD_mRNAArray',\n",
    "                      'KIRC_RNASeq2GeneNorm',\n",
    "                      'KIRC_mRNAArray',\n",
    "                      'KIRP_RNASeq2GeneNorm',\n",
    "                      'KIRP_mRNAArray',\n",
    "                      'LGG_RNASeq2GeneNorm',\n",
    "                      'LGG_mRNAArray',\n",
    "                      'LUAD_RNASeq2GeneNorm',\n",
    "                      'LUAD_mRNAArray',\n",
    "                      'READ_RNASeq2GeneNorm',\n",
    "                      'READ_mRNAArray',\n",
    "                      'UCEC_RNASeq2GeneNorm',\n",
    "                      'UCEC_mRNAArray']\n",
    "\n",
    "csv_files = [\"~/Downloads/TCGA_mRNA_RNA/BRCA/BRCA_RNASeq2GeneNorm.csv\",\n",
    "\"~/Downloads/TCGA_mRNA_RNA/BRCA/BRCA_mRNAArray.csv\",\n",
    "\"~/Downloads/TCGA_mRNA_RNA/COAD/COAD_RNASeq2GeneNorm.csv\",\n",
    "\"~/Downloads/TCGA_mRNA_RNA/COAD/COAD_mRNAArray.csv\",\n",
    "\"~/Downloads/TCGA_mRNA_RNA/KIRC/KIRC_RNASeq2GeneNorm.csv\",\n",
    "\"~/Downloads/TCGA_mRNA_RNA/KIRC/KIRC_mRNAArray.csv\",\n",
    "\"~/Downloads/TCGA_mRNA_RNA/KIRP/KIRP_RNASeq2GeneNorm.csv\",\n",
    "\"~/Downloads/TCGA_mRNA_RNA/KIRP/KIRP_mRNAArray.csv\",\n",
    "\"~/Downloads/TCGA_mRNA_RNA/LGG/LGG_RNASeq2GeneNorm.csv\",\n",
    "\"~/Downloads/TCGA_mRNA_RNA/LGG/LGG_mRNAArray.csv\",\n",
    "\"~/Downloads/TCGA_mRNA_RNA/LUAD/LUAD_RNASeq2GeneNorm.csv\",\n",
    "\"~/Downloads/TCGA_mRNA_RNA/LUAD/LUAD_mRNAArray.csv\",\n",
    "\"~/Downloads/TCGA_mRNA_RNA/READ/READ_RNASeq2GeneNorm.csv\",\n",
    "\"~/Downloads/TCGA_mRNA_RNA/READ/READ_mRNAArray.csv\",\n",
    "\"~/Downloads/TCGA_mRNA_RNA/UCEC/UCEC_RNASeq2GeneNorm.csv\",\n",
    "\"~/Downloads/TCGA_mRNA_RNA/UCEC/UCEC_mRNAArray.csv\"]"
   ]
  },
  {
   "cell_type": "code",
   "execution_count": 3,
   "metadata": {},
   "outputs": [],
   "source": [
    "microarray_data = [pd.read_csv(csv_files[i], index_col=0).fillna(0) for i in range(len(csv_files))]"
   ]
  },
  {
   "cell_type": "code",
   "execution_count": 4,
   "metadata": {},
   "outputs": [
    {
     "data": {
      "text/plain": [
       "array([ 0,  0,  0, ..., 15, 15, 15])"
      ]
     },
     "execution_count": 4,
     "metadata": {},
     "output_type": "execute_result"
    }
   ],
   "source": [
    "## Training data\n",
    "microarray_rna = h5py.File('microarray_rna.h5', mode='r') \n",
    "u_cancers = list(microarray_rna['microarray_rna/train'])\n",
    "\n",
    "X = np.vstack(list([microarray_rna['microarray_rna/train/'+c] for c in u_cancers]))\n",
    "cancer = np.array([c for c in u_cancers for i in range(microarray_rna['microarray_rna/train/'+c].shape[0])])\n",
    "\n",
    "# Labels\n",
    "categories = pd.factorize(cancer)\n",
    "y = categories[0]\n",
    "y"
   ]
  },
  {
   "cell_type": "code",
   "execution_count": 51,
   "metadata": {},
   "outputs": [],
   "source": [
    "u_cancers = list(microarray_rna['microarray_rna/test'])\n",
    "\n",
    "X_test = np.vstack(list([microarray_rna['microarray_rna/test/'+c] for c in u_cancers]))\n",
    "cancer_test = np.array([c for c in u_cancers for i in range(microarray_rna['microarray_rna/test/'+c].shape[0])])\n",
    "categories_test = pd.factorize(cancer_test)\n",
    "y_test = categories_test[0]"
   ]
  },
  {
   "cell_type": "code",
   "execution_count": 7,
   "metadata": {},
   "outputs": [
    {
     "name": "stderr",
     "output_type": "stream",
     "text": [
      "/Users/kompa/anaconda3/lib/python3.6/site-packages/dask/config.py:168: YAMLLoadWarning: calling yaml.load() without Loader=... is deprecated, as the default Loader is unsafe. Please read https://msg.pyyaml.org/load for full details.\n",
      "  data = yaml.load(f.read()) or {}\n"
     ]
    }
   ],
   "source": [
    "#import stuff \n",
    "import yaml\n",
    "import os\n",
    "import sys\n",
    "import shutil\n",
    "import numpy as np\n",
    "import torch\n",
    "import h5py\n",
    "\n",
    "from itertools import cycle\n",
    "\n",
    "from torch.backends import cudnn\n",
    "import torch.optim as optim\n",
    "import torch.nn as nn\n",
    "from torch.autograd import Variable, grad\n",
    "\n",
    "from src.data import LoadDataset\n",
    "from src.ufdn import LoadModel\n",
    "\n",
    "#We'll need to modify this for 3+ domains\n",
    "from src.util import vae_loss, calc_gradient_penalty, interpolate_vae_3d\n",
    "\n",
    "from tensorboardX import SummaryWriter "
   ]
  },
  {
   "cell_type": "code",
   "execution_count": 8,
   "metadata": {},
   "outputs": [],
   "source": [
    "#set this to the path of this yaml file \n",
    "#get it from my github branch \n",
    "config_path = 'config/microarray_rna.yaml'"
   ]
  },
  {
   "cell_type": "code",
   "execution_count": 9,
   "metadata": {},
   "outputs": [
    {
     "name": "stderr",
     "output_type": "stream",
     "text": [
      "/Users/kompa/anaconda3/lib/python3.6/site-packages/ipykernel_launcher.py:1: YAMLLoadWarning: calling yaml.load() without Loader=... is deprecated, as the default Loader is unsafe. Please read https://msg.pyyaml.org/load for full details.\n",
      "  \"\"\"Entry point for launching an IPython kernel.\n"
     ]
    }
   ],
   "source": [
    "conf = yaml.load(open(config_path,'r'))\n",
    "exp_name = conf['exp_setting']['exp_name']\n",
    "#img_size is only used in conv nets\n",
    "#originally it was 64\n",
    "img_size = conf['exp_setting']['img_size']\n",
    "#20,501 img_depth\n",
    "img_depth = conf['exp_setting']['img_depth']\n",
    "domains = conf['exp_setting']['domains']\n",
    "number_of_domains = len(domains)\n",
    "\n",
    "\n",
    "data_root = conf['exp_setting']['data_root']\n",
    "batch_size = conf['trainer']['batch_size']\n",
    "\n",
    "\n",
    "enc_dim = conf['model']['vae']['encoder'][-1][1] #latent space dimension #100\n",
    "code_dim = conf['model']['vae']['code_dim'] #number of domains #currently 3 \n",
    "vae_learning_rate = conf['model']['vae']['lr'] #learning rate #10e-4\n",
    "vae_betas = tuple(conf['model']['vae']['betas']) #used for adam optimizer\n"
   ]
  },
  {
   "cell_type": "code",
   "execution_count": 10,
   "metadata": {},
   "outputs": [],
   "source": [
    "#load the model in a blank form \n",
    "vae = LoadModel('vae',conf['model']['vae'],img_size,img_depth)"
   ]
  },
  {
   "cell_type": "code",
   "execution_count": 85,
   "metadata": {},
   "outputs": [],
   "source": [
    "#load in the trained params\n",
    "#put statedict.pt in the same directory as this ipynb \n",
    "vae.load_state_dict(torch.load('/Users/kompa/Downloads/40000.vae', map_location='cpu'))"
   ]
  },
  {
   "cell_type": "code",
   "execution_count": 86,
   "metadata": {},
   "outputs": [
    {
     "data": {
      "text/plain": [
       "UFDN(\n",
       "  (enc_0): Sequential(\n",
       "    (0): Linear(in_features=16146, out_features=500, bias=True)\n",
       "    (1): BatchNorm1d(500, eps=1e-05, momentum=0.1, affine=True, track_running_stats=True)\n",
       "    (2): LeakyReLU(negative_slope=0.2)\n",
       "  )\n",
       "  (enc_mu): Sequential(\n",
       "    (0): Linear(in_features=500, out_features=100, bias=True)\n",
       "  )\n",
       "  (enc_logvar): Sequential(\n",
       "    (0): Linear(in_features=500, out_features=100, bias=True)\n",
       "  )\n",
       "  (dec_0): Sequential(\n",
       "    (0): Linear(in_features=116, out_features=500, bias=True)\n",
       "    (1): BatchNorm1d(500, eps=1e-05, momentum=0.1, affine=True, track_running_stats=True)\n",
       "    (2): LeakyReLU(negative_slope=0.2)\n",
       "  )\n",
       "  (dec_1): Sequential(\n",
       "    (0): Linear(in_features=500, out_features=16146, bias=True)\n",
       "  )\n",
       ")"
      ]
     },
     "execution_count": 86,
     "metadata": {},
     "output_type": "execute_result"
    }
   ],
   "source": [
    "vae.eval()"
   ]
  },
  {
   "cell_type": "code",
   "execution_count": 38,
   "metadata": {},
   "outputs": [],
   "source": [
    "def translate_to_domain(x, vae, domain): \n",
    "    '''Takes input x, encodes it via vae and \n",
    "       decodes it to the new domain (numbered by cancer_vae)\n",
    "    '''\n",
    "    # Encode to latent space\n",
    "    enc = vae(Variable(torch.FloatTensor(x).unsqueeze(0)),return_enc=True).cpu().data.numpy().ravel()\n",
    "    # Domain vectors (one for each domain)\n",
    "    alphas = np.identity(16)\n",
    "    # The domain we are translating to\n",
    "    alpha = Variable(torch.FloatTensor(alphas[domain,:] ).unsqueeze(0).expand((1, 16)))\n",
    "    \n",
    "    # Decode to new domain \n",
    "    dec = vae.decode(Variable(torch.FloatTensor(enc).unsqueeze(0)), alpha).data.numpy().ravel() \n",
    "    \n",
    "    return(dec)\n",
    "\n",
    "def partial_translate_to_domain(x, vae, original_domain, domain, fraction): \n",
    "    '''Takes input x, encodes it via vae and \n",
    "       decodes it to the new domain (numbered by cancer_vae)\n",
    "    '''\n",
    "    # Encode to latent space\n",
    "    enc = vae(Variable(torch.FloatTensor(x).unsqueeze(0)),return_enc=True).cpu().data.numpy().ravel()\n",
    "    # Domain vectors (one for each domain)\n",
    "    alphas = np.identity(16)\n",
    "    \n",
    "    alphas[domain,original_domain] = 1.0 - fraction\n",
    "    \n",
    "    alphas[domain, domain] = float(fraction)\n",
    "    \n",
    "    alpha = Variable(torch.FloatTensor(alphas[domain,:] ).unsqueeze(0).expand((1, 16)))\n",
    "    \n",
    "    # Decode to new domain \n",
    "    dec = vae.decode(Variable(torch.FloatTensor(enc).unsqueeze(0)), alpha).data.numpy().ravel() \n",
    "    \n",
    "    return(dec)\n",
    "    \n",
    "def translate_dataset(X, vae, domain):\n",
    "    return(np.vstack(list([translate_to_domain(x, vae, domain) for x in X])))\n",
    "\n",
    "def partial_translate_dataset(X, vae, original_domain, domain, fraction):\n",
    "    return(np.vstack(list([partial_translate_to_domain(x, vae, original_domain, domain, fraction) for x in X])))\n",
    "\n",
    "def encode_sample(x, vae):\n",
    "    return(vae(Variable(torch.FloatTensor(x).unsqueeze(0)),return_enc=True).cpu().data.numpy().ravel())\n",
    "\n",
    "def encode_dataset(X, vae):\n",
    "    return(np.vstack(list([encode_sample(x, vae) for x in X])))"
   ]
  },
  {
   "cell_type": "code",
   "execution_count": 81,
   "metadata": {},
   "outputs": [
    {
     "data": {
      "text/plain": [
       "1220.6242301437592"
      ]
     },
     "execution_count": 81,
     "metadata": {},
     "output_type": "execute_result"
    }
   ],
   "source": [
    "np.linalg.norm(translate_to_domain(X[805], vae, 1)-X[1266])/np.linalg.norm(X[1266])"
   ]
  },
  {
   "cell_type": "code",
   "execution_count": 76,
   "metadata": {},
   "outputs": [],
   "source": [
    "train_encoded = encode_dataset(X, vae)"
   ]
  },
  {
   "cell_type": "code",
   "execution_count": 77,
   "metadata": {},
   "outputs": [],
   "source": [
    "test_encoded = encode_dataset(X_test, vae)"
   ]
  },
  {
   "cell_type": "code",
   "execution_count": 78,
   "metadata": {},
   "outputs": [],
   "source": [
    "# save these encodings \n",
    "np.savetxt('/Users/kompa/Downloads/TCGA_mRNA_RNA/train_X_encoded_385.csv', train_encoded, delimiter=',')\n",
    "np.savetxt('/Users/kompa/Downloads/TCGA_mRNA_RNA/test_X_encoded_385.csv', test_encoded, delimiter=',')"
   ]
  },
  {
   "cell_type": "code",
   "execution_count": 30,
   "metadata": {},
   "outputs": [],
   "source": [
    "# bind corresponding samples \n",
    "train_samples = np.concatenate(list([np.loadtxt('/Users/kompa/Downloads/TCGA_mRNA_RNA/train_'+c+'.txt', dtype='str') for c in u_cancers]), axis=0)\n",
    "test_samples = np.concatenate(list([np.loadtxt('/Users/kompa/Downloads/TCGA_mRNA_RNA/test_'+c+'.txt', dtype='str') for c in u_cancers]), axis=0)"
   ]
  },
  {
   "cell_type": "code",
   "execution_count": 35,
   "metadata": {},
   "outputs": [],
   "source": [
    "# save these sapmle lists \n",
    "np.savetxt('/Users/kompa/Downloads/TCGA_mRNA_RNA/train_X_samples.csv', train_samples, delimiter=',', fmt='%s')\n",
    "np.savetxt('/Users/kompa/Downloads/TCGA_mRNA_RNA/test_X_samples.csv', test_samples, delimiter=',', fmt='%s')"
   ]
  },
  {
   "cell_type": "code",
   "execution_count": 54,
   "metadata": {},
   "outputs": [
    {
     "name": "stdout",
     "output_type": "stream",
     "text": [
      "Interpolating... BRCA_RNASeq2GeneNorm\n",
      "Interpolating... BRCA_mRNAArray\n",
      "Interpolating... COAD_RNASeq2GeneNorm\n",
      "Interpolating... COAD_mRNAArray\n",
      "Interpolating... KIRC_RNASeq2GeneNorm\n",
      "Interpolating... KIRC_mRNAArray\n",
      "Interpolating... KIRP_RNASeq2GeneNorm\n",
      "Interpolating... KIRP_mRNAArray\n",
      "Interpolating... LGG_RNASeq2GeneNorm\n",
      "Interpolating... LGG_mRNAArray\n",
      "Interpolating... LUAD_RNASeq2GeneNorm\n",
      "Interpolating... LUAD_mRNAArray\n",
      "Interpolating... READ_RNASeq2GeneNorm\n",
      "Interpolating... READ_mRNAArray\n",
      "Interpolating... UCEC_RNASeq2GeneNorm\n",
      "Interpolating... UCEC_mRNAArray\n"
     ]
    }
   ],
   "source": [
    "for idx, cancer in enumerate(u_cancers): \n",
    "    print('Interpolating... '+cancer)\n",
    "    domain = (-1)**(idx%2!=0)+idx\n",
    "    \n",
    "    translated_training_data = translate_dataset(X[np.where(y==idx)], vae, domain)\n",
    "    translated_test_data = translate_dataset(X_test[np.where(y_test==idx)], vae, domain)\n",
    "    \n",
    "    np.savetxt('/Users/kompa/Downloads/TCGA_mRNA_RNA/train_X_'+cancer+'_interpolated.csv', translated_training_data, delimiter=',')\n",
    "    np.savetxt('/Users/kompa/Downloads/TCGA_mRNA_RNA/test_X_'+cancer+'_interpolated.csv', translated_test_data, delimiter=',')"
   ]
  },
  {
   "cell_type": "code",
   "execution_count": 79,
   "metadata": {},
   "outputs": [
    {
     "name": "stdout",
     "output_type": "stream",
     "text": [
      "UMAP(a=None, angular_rp_forest=False, b=None, init='spectral',\n",
      "   learning_rate=1.0, local_connectivity=1.0, metric='euclidean',\n",
      "   metric_kwds=None, min_dist=0.01, n_components=2, n_epochs=None,\n",
      "   n_neighbors=15, negative_sample_rate=5, random_state=None,\n",
      "   repulsion_strength=1.0, set_op_mix_ratio=1.0, spread=2.0,\n",
      "   target_metric='categorical', target_metric_kwds=None,\n",
      "   target_n_neighbors=-1, target_weight=0.5, transform_queue_size=4.0,\n",
      "   transform_seed=42, verbose=True)\n",
      "Construct fuzzy simplicial set\n",
      "Construct embedding\n",
      "\tcompleted  0  /  500 epochs\n",
      "\tcompleted  50  /  500 epochs\n",
      "\tcompleted  100  /  500 epochs\n",
      "\tcompleted  150  /  500 epochs\n",
      "\tcompleted  200  /  500 epochs\n",
      "\tcompleted  250  /  500 epochs\n",
      "\tcompleted  300  /  500 epochs\n",
      "\tcompleted  350  /  500 epochs\n",
      "\tcompleted  400  /  500 epochs\n",
      "\tcompleted  450  /  500 epochs\n"
     ]
    }
   ],
   "source": [
    "from umap import UMAP\n",
    "\n",
    "\n",
    "Z = UMAP(n_components=2, spread = 2.0, min_dist=0.01, verbose=True).fit_transform(train_encoded)"
   ]
  },
  {
   "cell_type": "code",
   "execution_count": 56,
   "metadata": {},
   "outputs": [
    {
     "name": "stdout",
     "output_type": "stream",
     "text": [
      "UMAP(a=None, angular_rp_forest=False, b=None, init='spectral',\n",
      "   learning_rate=1.0, local_connectivity=1.0, metric='euclidean',\n",
      "   metric_kwds=None, min_dist=0.01, n_components=2, n_epochs=None,\n",
      "   n_neighbors=15, negative_sample_rate=5, random_state=None,\n",
      "   repulsion_strength=1.0, set_op_mix_ratio=1.0, spread=2.0,\n",
      "   target_metric='categorical', target_metric_kwds=None,\n",
      "   target_n_neighbors=-1, target_weight=0.5, transform_queue_size=4.0,\n",
      "   transform_seed=42, verbose=True)\n",
      "Construct fuzzy simplicial set\n",
      "Construct embedding\n"
     ]
    },
    {
     "name": "stderr",
     "output_type": "stream",
     "text": [
      "/Users/kompa/anaconda3/lib/python3.6/site-packages/umap/spectral.py:229: UserWarning: Embedding a total of 4 separate connected components using meta-embedding (experimental)\n",
      "  n_components\n"
     ]
    },
    {
     "name": "stdout",
     "output_type": "stream",
     "text": [
      "\tcompleted  0  /  500 epochs\n",
      "\tcompleted  50  /  500 epochs\n",
      "\tcompleted  100  /  500 epochs\n",
      "\tcompleted  150  /  500 epochs\n",
      "\tcompleted  200  /  500 epochs\n",
      "\tcompleted  250  /  500 epochs\n",
      "\tcompleted  300  /  500 epochs\n",
      "\tcompleted  350  /  500 epochs\n",
      "\tcompleted  400  /  500 epochs\n",
      "\tcompleted  450  /  500 epochs\n"
     ]
    }
   ],
   "source": [
    "umap_train = UMAP(n_components=2, spread = 2.0, min_dist=0.01, verbose=True).fit_transform(X)"
   ]
  },
  {
   "cell_type": "code",
   "execution_count": 80,
   "metadata": {},
   "outputs": [],
   "source": [
    "np.savetxt('/Users/kompa/Downloads/TCGA_mRNA_RNA/embedding_385.csv', Z, delimiter=',')"
   ]
  },
  {
   "cell_type": "code",
   "execution_count": 57,
   "metadata": {},
   "outputs": [],
   "source": [
    "np.savetxt('/Users/kompa/Downloads/TCGA_mRNA_RNA/raw_embedding.csv', umap_train, delimiter=',')"
   ]
  },
  {
   "cell_type": "code",
   "execution_count": 53,
   "metadata": {},
   "outputs": [],
   "source": [
    "np.savetxt('/Users/kompa/Downloads/TCGA_mRNA_RNA/y_train.csv', y, delimiter = ',')\n",
    "np.savetxt('/Users/kompa/Downloads/TCGA_mRNA_RNA/y_test.csv', y_test, delimiter = ',')"
   ]
  },
  {
   "cell_type": "code",
   "execution_count": 55,
   "metadata": {},
   "outputs": [],
   "source": [
    "np.savetxt('/Users/kompa/Downloads/TCGA_mRNA_RNA/X_train.csv', X, delimiter=',')\n",
    "np.savetxt('/Users/kompa/Downloads/TCGA_mRNA_RNA/X_test.csv', X_test, delimiter=',')"
   ]
  },
  {
   "cell_type": "code",
   "execution_count": 82,
   "metadata": {},
   "outputs": [],
   "source": [
    "from pykdtree.kdtree import KDTree"
   ]
  },
  {
   "cell_type": "code",
   "execution_count": 92,
   "metadata": {},
   "outputs": [],
   "source": [
    "# KNN calculations \n",
    "\n",
    "kd_tree = KDTree(X)"
   ]
  },
  {
   "cell_type": "code",
   "execution_count": 93,
   "metadata": {},
   "outputs": [],
   "source": [
    "brca_test_rna = translate_dataset(X_test, vae, 0)"
   ]
  },
  {
   "cell_type": "code",
   "execution_count": 94,
   "metadata": {},
   "outputs": [
    {
     "ename": "ValueError",
     "evalue": "Data and query points must have same dimensions",
     "output_type": "error",
     "traceback": [
      "\u001b[0;31m---------------------------------------------------------------------------\u001b[0m",
      "\u001b[0;31mValueError\u001b[0m                                Traceback (most recent call last)",
      "\u001b[0;32m<ipython-input-94-89daa7448879>\u001b[0m in \u001b[0;36m<module>\u001b[0;34m\u001b[0m\n\u001b[0;32m----> 1\u001b[0;31m \u001b[0mdist\u001b[0m\u001b[0;34m,\u001b[0m \u001b[0midx\u001b[0m \u001b[0;34m=\u001b[0m \u001b[0mkd_tree\u001b[0m\u001b[0;34m.\u001b[0m\u001b[0mquery\u001b[0m\u001b[0;34m(\u001b[0m\u001b[0mbrca_test_rna\u001b[0m\u001b[0;34m,\u001b[0m \u001b[0mk\u001b[0m\u001b[0;34m=\u001b[0m\u001b[0;36m10\u001b[0m\u001b[0;34m)\u001b[0m\u001b[0;34m\u001b[0m\u001b[0;34m\u001b[0m\u001b[0m\n\u001b[0m",
      "\u001b[0;32mpykdtree/kdtree.pyx\u001b[0m in \u001b[0;36mpykdtree.kdtree.KDTree.query\u001b[0;34m()\u001b[0m\n",
      "\u001b[0;31mValueError\u001b[0m: Data and query points must have same dimensions"
     ]
    }
   ],
   "source": [
    "dist, idx = kd_tree.query(brca_test_rna, k=10)"
   ]
  },
  {
   "cell_type": "code",
   "execution_count": 89,
   "metadata": {},
   "outputs": [
    {
     "data": {
      "text/plain": [
       "(3943, 16146)"
      ]
     },
     "execution_count": 89,
     "metadata": {},
     "output_type": "execute_result"
    }
   ],
   "source": [
    "X.shape"
   ]
  },
  {
   "cell_type": "code",
   "execution_count": 90,
   "metadata": {},
   "outputs": [
    {
     "data": {
      "text/plain": [
       "(982, 16146)"
      ]
     },
     "execution_count": 90,
     "metadata": {},
     "output_type": "execute_result"
    }
   ],
   "source": [
    "brca_test_rna.shape"
   ]
  },
  {
   "cell_type": "code",
   "execution_count": 95,
   "metadata": {},
   "outputs": [],
   "source": [
    "from scipy.spatial import cKDTree"
   ]
  },
  {
   "cell_type": "code",
   "execution_count": 96,
   "metadata": {},
   "outputs": [],
   "source": [
    "ckd_tree = cKDTree(X)"
   ]
  },
  {
   "cell_type": "code",
   "execution_count": 99,
   "metadata": {},
   "outputs": [
    {
     "name": "stdout",
     "output_type": "stream",
     "text": [
      "0 BRCA_RNASeq2GeneNorm\n",
      "1 BRCA_mRNAArray\n",
      "2 COAD_RNASeq2GeneNorm\n",
      "3 COAD_mRNAArray\n",
      "4 KIRC_RNASeq2GeneNorm\n",
      "5 KIRC_mRNAArray\n",
      "6 KIRP_RNASeq2GeneNorm\n",
      "7 KIRP_mRNAArray\n",
      "8 LGG_RNASeq2GeneNorm\n",
      "9 LGG_mRNAArray\n",
      "10 LUAD_RNASeq2GeneNorm\n",
      "11 LUAD_mRNAArray\n",
      "12 READ_RNASeq2GeneNorm\n",
      "13 READ_mRNAArray\n",
      "14 UCEC_RNASeq2GeneNorm\n",
      "15 UCEC_mRNAArray\n"
     ]
    }
   ],
   "source": [
    "\n",
    "for idx, dataset in enumerate(microarray_datasets):\n",
    "    print(idx, dataset)\n",
    "    interolated_test_set = translate_dataset(X_test, vae, idx)\n",
    "    dist, idx = ckd_tree.query(interolated_test_set, k=10)\n",
    "    np.savetxt('/Users/kompa/Downloads/TCGA_mRNA_RNA/'+dataset+'_NN.csv', idx)\n",
    "    "
   ]
  },
  {
   "cell_type": "code",
   "execution_count": 100,
   "metadata": {},
   "outputs": [],
   "source": [
    "test_idx = np.loadtxt('/Users/kompa/Downloads/TCGA_mRNA_RNA/BRCA_RNASeq2GeneNorm_NN.csv')"
   ]
  },
  {
   "cell_type": "code",
   "execution_count": 105,
   "metadata": {},
   "outputs": [
    {
     "name": "stdout",
     "output_type": "stream",
     "text": [
      "0\n",
      "0\n",
      "0\n",
      "0\n",
      "0\n",
      "0\n",
      "0\n",
      "0\n",
      "0\n",
      "0\n",
      "0\n",
      "0\n",
      "0\n",
      "0\n",
      "0\n",
      "0\n"
     ]
    }
   ],
   "source": [
    "for idx, dataset in enumerate(microarray_datasets):\n",
    "    test_idx = np.loadtxt('/Users/kompa/Downloads/TCGA_mRNA_RNA/'+dataset+'_NN.csv')\n",
    "    print(np.sum(test_idx==idx))"
   ]
  },
  {
   "cell_type": "code",
   "execution_count": null,
   "metadata": {},
   "outputs": [],
   "source": []
  }
 ],
 "metadata": {
  "kernelspec": {
   "display_name": "Python 3",
   "language": "python",
   "name": "python3"
  },
  "language_info": {
   "codemirror_mode": {
    "name": "ipython",
    "version": 3
   },
   "file_extension": ".py",
   "mimetype": "text/x-python",
   "name": "python",
   "nbconvert_exporter": "python",
   "pygments_lexer": "ipython3",
   "version": "3.6.8"
  }
 },
 "nbformat": 4,
 "nbformat_minor": 2
}
